{
 "cells": [
  {
   "cell_type": "code",
   "execution_count": 1,
   "metadata": {},
   "outputs": [],
   "source": [
    "# in order to inspect the time I started the project\\\n",
    "# you can inspect the commit history on github. \n",
    "# I also experiment with start and end times in the following lines"
   ]
  },
  {
   "cell_type": "code",
   "execution_count": 2,
   "metadata": {},
   "outputs": [
    {
     "name": "stderr",
     "output_type": "stream",
     "text": [
      "/opt/anaconda3/lib/python3.9/site-packages/scipy/__init__.py:146: UserWarning: A NumPy version >=1.16.5 and <1.23.0 is required for this version of SciPy (detected version 1.26.4\n",
      "  warnings.warn(f\"A NumPy version >={np_minversion} and <{np_maxversion}\"\n"
     ]
    }
   ],
   "source": [
    "# i will import the same libraries used for my 550 project \n",
    "# this is to save time for analysis. \n",
    "import pandas as pd\n",
    "import numpy as np\n",
    "import seaborn as sns\n",
    "import matplotlib.pyplot as plt\n",
    "import statsmodels.api as sm\n",
    "import statsmodels.formula.api as smf\n",
    "from statsmodels.stats.outliers_influence import variance_inflation_factor\n",
    "from statsmodels.tools.tools import add_constant\n",
    "import matplotlib.pyplot as plt\n",
    "import matplotlib.dates as mdates"
   ]
  },
  {
   "cell_type": "code",
   "execution_count": 3,
   "metadata": {},
   "outputs": [],
   "source": [
    "# adding the dta files to the prohect folder and importing \n",
    "ra_data = pd.read_stata('RA_merge_exercise.dta')\n",
    "industry_data = pd.read_stata('ntmaj10_merge_exercise.dta')"
   ]
  },
  {
   "cell_type": "code",
   "execution_count": 4,
   "metadata": {},
   "outputs": [
    {
     "data": {
      "text/html": [
       "<div>\n",
       "<style scoped>\n",
       "    .dataframe tbody tr th:only-of-type {\n",
       "        vertical-align: middle;\n",
       "    }\n",
       "\n",
       "    .dataframe tbody tr th {\n",
       "        vertical-align: top;\n",
       "    }\n",
       "\n",
       "    .dataframe thead th {\n",
       "        text-align: right;\n",
       "    }\n",
       "</style>\n",
       "<table border=\"1\" class=\"dataframe\">\n",
       "  <thead>\n",
       "    <tr style=\"text-align: right;\">\n",
       "      <th></th>\n",
       "      <th>returnts</th>\n",
       "      <th>zipcd</th>\n",
       "      <th>returntypecd</th>\n",
       "      <th>ein</th>\n",
       "      <th>irs990totalassetsboyamt</th>\n",
       "      <th>irs990revenueamt</th>\n",
       "      <th>year</th>\n",
       "    </tr>\n",
       "  </thead>\n",
       "  <tbody>\n",
       "    <tr>\n",
       "      <th>0</th>\n",
       "      <td>2017-11-27T12:07:15-06:00</td>\n",
       "      <td>19110</td>\n",
       "      <td>990EZ</td>\n",
       "      <td>112642391</td>\n",
       "      <td>NaN</td>\n",
       "      <td>NaN</td>\n",
       "      <td>2015.0</td>\n",
       "    </tr>\n",
       "    <tr>\n",
       "      <th>1</th>\n",
       "      <td>2018-01-17T07:35:17-08:00</td>\n",
       "      <td>19063</td>\n",
       "      <td>990EZ</td>\n",
       "      <td>112769918</td>\n",
       "      <td>NaN</td>\n",
       "      <td>NaN</td>\n",
       "      <td>2015.0</td>\n",
       "    </tr>\n",
       "    <tr>\n",
       "      <th>2</th>\n",
       "      <td>2018-05-08T09:57:45-05:00</td>\n",
       "      <td>19087</td>\n",
       "      <td>990PF</td>\n",
       "      <td>113202308</td>\n",
       "      <td>NaN</td>\n",
       "      <td>NaN</td>\n",
       "      <td>NaN</td>\n",
       "    </tr>\n",
       "    <tr>\n",
       "      <th>3</th>\n",
       "      <td>2018-11-15T10:19:57-05:00</td>\n",
       "      <td>19020</td>\n",
       "      <td>990EZ</td>\n",
       "      <td>113398321</td>\n",
       "      <td>NaN</td>\n",
       "      <td>NaN</td>\n",
       "      <td>2015.0</td>\n",
       "    </tr>\n",
       "    <tr>\n",
       "      <th>4</th>\n",
       "      <td>2018-02-26T10:01:32-06:00</td>\n",
       "      <td>19129</td>\n",
       "      <td>990EZ</td>\n",
       "      <td>113625329</td>\n",
       "      <td>NaN</td>\n",
       "      <td>NaN</td>\n",
       "      <td>2015.0</td>\n",
       "    </tr>\n",
       "  </tbody>\n",
       "</table>\n",
       "</div>"
      ],
      "text/plain": [
       "                    returnts  zipcd returntypecd        ein  \\\n",
       "0  2017-11-27T12:07:15-06:00  19110        990EZ  112642391   \n",
       "1  2018-01-17T07:35:17-08:00  19063        990EZ  112769918   \n",
       "2  2018-05-08T09:57:45-05:00  19087        990PF  113202308   \n",
       "3  2018-11-15T10:19:57-05:00  19020        990EZ  113398321   \n",
       "4  2018-02-26T10:01:32-06:00  19129        990EZ  113625329   \n",
       "\n",
       "   irs990totalassetsboyamt  irs990revenueamt    year  \n",
       "0                      NaN               NaN  2015.0  \n",
       "1                      NaN               NaN  2015.0  \n",
       "2                      NaN               NaN     NaN  \n",
       "3                      NaN               NaN  2015.0  \n",
       "4                      NaN               NaN  2015.0  "
      ]
     },
     "execution_count": 4,
     "metadata": {},
     "output_type": "execute_result"
    }
   ],
   "source": [
    "# inspecting missing values \n",
    "ra_data.head()"
   ]
  },
  {
   "cell_type": "code",
   "execution_count": 5,
   "metadata": {},
   "outputs": [
    {
     "data": {
      "text/html": [
       "<div>\n",
       "<style scoped>\n",
       "    .dataframe tbody tr th:only-of-type {\n",
       "        vertical-align: middle;\n",
       "    }\n",
       "\n",
       "    .dataframe tbody tr th {\n",
       "        vertical-align: top;\n",
       "    }\n",
       "\n",
       "    .dataframe thead th {\n",
       "        text-align: right;\n",
       "    }\n",
       "</style>\n",
       "<table border=\"1\" class=\"dataframe\">\n",
       "  <thead>\n",
       "    <tr style=\"text-align: right;\">\n",
       "      <th></th>\n",
       "      <th>ein</th>\n",
       "      <th>ntmaj10</th>\n",
       "    </tr>\n",
       "  </thead>\n",
       "  <tbody>\n",
       "    <tr>\n",
       "      <th>0</th>\n",
       "      <td>100007967</td>\n",
       "      <td>ED</td>\n",
       "    </tr>\n",
       "    <tr>\n",
       "      <th>1</th>\n",
       "      <td>100727381</td>\n",
       "      <td>HU</td>\n",
       "    </tr>\n",
       "    <tr>\n",
       "      <th>2</th>\n",
       "      <td>100817874</td>\n",
       "      <td>AR</td>\n",
       "    </tr>\n",
       "    <tr>\n",
       "      <th>3</th>\n",
       "      <td>100898048</td>\n",
       "      <td>HE</td>\n",
       "    </tr>\n",
       "    <tr>\n",
       "      <th>4</th>\n",
       "      <td>100914983</td>\n",
       "      <td>HE</td>\n",
       "    </tr>\n",
       "  </tbody>\n",
       "</table>\n",
       "</div>"
      ],
      "text/plain": [
       "         ein ntmaj10\n",
       "0  100007967      ED\n",
       "1  100727381      HU\n",
       "2  100817874      AR\n",
       "3  100898048      HE\n",
       "4  100914983      HE"
      ]
     },
     "execution_count": 5,
     "metadata": {},
     "output_type": "execute_result"
    }
   ],
   "source": [
    "industry_data.head()"
   ]
  },
  {
   "cell_type": "code",
   "execution_count": 6,
   "metadata": {},
   "outputs": [],
   "source": [
    "# converting to CSV files to inspect the data\n",
    "import pandas as pd\n",
    "\n",
    "# Load the datasets\n",
    "ra_data = pd.read_stata('RA_merge_exercise.dta')\n",
    "industry_data = pd.read_stata('ntmaj10_merge_exercise.dta')\n",
    "\n",
    "# Convert and save as CSV\n",
    "ra_data.to_csv('RA_merge_exercise.csv', index=False)\n",
    "industry_data.to_csv('ntmaj10_merge_exercise.csv', index=False)\n"
   ]
  },
  {
   "cell_type": "code",
   "execution_count": 7,
   "metadata": {},
   "outputs": [],
   "source": [
    "# making a note that I briefly launched stata and used the browse function to\n",
    "# verify that the the csv data mapped to the .dta files"
   ]
  },
  {
   "cell_type": "code",
   "execution_count": 8,
   "metadata": {},
   "outputs": [],
   "source": [
    "# preforming the merge\n",
    "merged_data = pd.merge(ra_data, industry_data, on='ein', how='left')\n"
   ]
  },
  {
   "cell_type": "code",
   "execution_count": 9,
   "metadata": {},
   "outputs": [
    {
     "data": {
      "text/html": [
       "<div>\n",
       "<style scoped>\n",
       "    .dataframe tbody tr th:only-of-type {\n",
       "        vertical-align: middle;\n",
       "    }\n",
       "\n",
       "    .dataframe tbody tr th {\n",
       "        vertical-align: top;\n",
       "    }\n",
       "\n",
       "    .dataframe thead th {\n",
       "        text-align: right;\n",
       "    }\n",
       "</style>\n",
       "<table border=\"1\" class=\"dataframe\">\n",
       "  <thead>\n",
       "    <tr style=\"text-align: right;\">\n",
       "      <th></th>\n",
       "      <th>returnts</th>\n",
       "      <th>zipcd</th>\n",
       "      <th>returntypecd</th>\n",
       "      <th>ein</th>\n",
       "      <th>irs990totalassetsboyamt</th>\n",
       "      <th>irs990revenueamt</th>\n",
       "      <th>year</th>\n",
       "      <th>ntmaj10</th>\n",
       "    </tr>\n",
       "  </thead>\n",
       "  <tbody>\n",
       "    <tr>\n",
       "      <th>0</th>\n",
       "      <td>2017-11-27T12:07:15-06:00</td>\n",
       "      <td>19110</td>\n",
       "      <td>990EZ</td>\n",
       "      <td>112642391</td>\n",
       "      <td>NaN</td>\n",
       "      <td>NaN</td>\n",
       "      <td>2015.0</td>\n",
       "      <td>AR</td>\n",
       "    </tr>\n",
       "    <tr>\n",
       "      <th>1</th>\n",
       "      <td>2018-01-17T07:35:17-08:00</td>\n",
       "      <td>19063</td>\n",
       "      <td>990EZ</td>\n",
       "      <td>112769918</td>\n",
       "      <td>NaN</td>\n",
       "      <td>NaN</td>\n",
       "      <td>2015.0</td>\n",
       "      <td>AR</td>\n",
       "    </tr>\n",
       "    <tr>\n",
       "      <th>2</th>\n",
       "      <td>2018-05-08T09:57:45-05:00</td>\n",
       "      <td>19087</td>\n",
       "      <td>990PF</td>\n",
       "      <td>113202308</td>\n",
       "      <td>NaN</td>\n",
       "      <td>NaN</td>\n",
       "      <td>NaN</td>\n",
       "      <td>NaN</td>\n",
       "    </tr>\n",
       "    <tr>\n",
       "      <th>3</th>\n",
       "      <td>2018-11-15T10:19:57-05:00</td>\n",
       "      <td>19020</td>\n",
       "      <td>990EZ</td>\n",
       "      <td>113398321</td>\n",
       "      <td>NaN</td>\n",
       "      <td>NaN</td>\n",
       "      <td>2015.0</td>\n",
       "      <td>NaN</td>\n",
       "    </tr>\n",
       "    <tr>\n",
       "      <th>4</th>\n",
       "      <td>2018-02-26T10:01:32-06:00</td>\n",
       "      <td>19129</td>\n",
       "      <td>990EZ</td>\n",
       "      <td>113625329</td>\n",
       "      <td>NaN</td>\n",
       "      <td>NaN</td>\n",
       "      <td>2015.0</td>\n",
       "      <td>ED</td>\n",
       "    </tr>\n",
       "  </tbody>\n",
       "</table>\n",
       "</div>"
      ],
      "text/plain": [
       "                    returnts  zipcd returntypecd        ein  \\\n",
       "0  2017-11-27T12:07:15-06:00  19110        990EZ  112642391   \n",
       "1  2018-01-17T07:35:17-08:00  19063        990EZ  112769918   \n",
       "2  2018-05-08T09:57:45-05:00  19087        990PF  113202308   \n",
       "3  2018-11-15T10:19:57-05:00  19020        990EZ  113398321   \n",
       "4  2018-02-26T10:01:32-06:00  19129        990EZ  113625329   \n",
       "\n",
       "   irs990totalassetsboyamt  irs990revenueamt    year ntmaj10  \n",
       "0                      NaN               NaN  2015.0      AR  \n",
       "1                      NaN               NaN  2015.0      AR  \n",
       "2                      NaN               NaN     NaN     NaN  \n",
       "3                      NaN               NaN  2015.0     NaN  \n",
       "4                      NaN               NaN  2015.0      ED  "
      ]
     },
     "execution_count": 9,
     "metadata": {},
     "output_type": "execute_result"
    }
   ],
   "source": [
    "# inspecting the head of the data\n",
    "merged_data.head()"
   ]
  },
  {
   "cell_type": "code",
   "execution_count": 10,
   "metadata": {},
   "outputs": [
    {
     "name": "stdout",
     "output_type": "stream",
     "text": [
      "returnts                      0\n",
      "zipcd                         0\n",
      "returntypecd                  0\n",
      "ein                           0\n",
      "irs990totalassetsboyamt    1530\n",
      "irs990revenueamt           2457\n",
      "year                       1473\n",
      "ntmaj10                    1922\n",
      "dtype: int64\n"
     ]
    }
   ],
   "source": [
    "#first, I will check missing values \n",
    "missing_values = merged_data.isna().sum()\n",
    "print(missing_values)\n"
   ]
  },
  {
   "cell_type": "code",
   "execution_count": 11,
   "metadata": {},
   "outputs": [
    {
     "name": "stdout",
     "output_type": "stream",
     "text": [
      "(1115, 8)\n",
      "returnts                   0\n",
      "zipcd                      0\n",
      "returntypecd               0\n",
      "ein                        0\n",
      "irs990totalassetsboyamt    0\n",
      "irs990revenueamt           0\n",
      "year                       0\n",
      "ntmaj10                    0\n",
      "dtype: int64\n"
     ]
    }
   ],
   "source": [
    "# for the purposes of this analysis i will create a dataframe where missing values \n",
    "# for industry are dropped \n",
    "# Assuming merged_data is your DataFrame after the merge\n",
    "# Drop rows with missing values in any column\n",
    "cleaned_data = merged_data.dropna()\n",
    "\n",
    "# If you want to inspect the result and see how many rows remain\n",
    "print(cleaned_data.shape)\n",
    "\n",
    "\n",
    "# If you want to inspect the result and see how many rows remain\n",
    "\n",
    "missing_cleaned = cleaned_data.isna().sum()\n",
    "print(missing_cleaned)\n"
   ]
  },
  {
   "cell_type": "code",
   "execution_count": 12,
   "metadata": {},
   "outputs": [
    {
     "name": "stdout",
     "output_type": "stream",
     "text": [
      "243\n"
     ]
    }
   ],
   "source": [
    "# inspecting zip codes\n",
    "cleaned_data_zips = cleaned_data['zipcd'].nunique()\n",
    "print(cleaned_data_zips)\n",
    "# its unlikely we can break industry out by zipcode"
   ]
  },
  {
   "cell_type": "code",
   "execution_count": null,
   "metadata": {},
   "outputs": [],
   "source": []
  },
  {
   "cell_type": "code",
   "execution_count": 17,
   "metadata": {},
   "outputs": [
    {
     "data": {
      "text/plain": [
       "<Figure size 720x432 with 0 Axes>"
      ]
     },
     "metadata": {},
     "output_type": "display_data"
    },
    {
     "data": {
      "image/png": "[encoded data removed]",
      "text/plain": [
       "<Figure size 432x288 with 1 Axes>"
      ]
     },
     "metadata": {
      "needs_background": "light"
     },
     "output_type": "display_data"
    }
   ],
   "source": [
    "# for now we will plot returns over time by industry \n",
    "# i will use a pivot function as I did in the project I did for econ 550\n",
    "grouped_data = cleaned_data.groupby(['ntmaj10', 'year'])['irs990revenueamt'].sum().reset_index()\n",
    "\n",
    "# Pivot the data for plotting\n",
    "pivot_data = grouped_data.pivot(index='year', columns='ntmaj10', values='irs990revenueamt')\n",
    "\n",
    "# Plot the data\n",
    "plt.figure(figsize=(10, 6))\n",
    "pivot_data.plot(kind='line')\n",
    "plt.title('IRS 990 Revenue Amount Over Time by NTMAJ10')\n",
    "plt.xlabel('Year')\n",
    "plt.ylabel('IRS 990 Revenue Amount')\n",
    "plt.legend(title='NTMAJ10', bbox_to_anchor=(1.05, 1), loc='upper left')\n",
    "plt.tight_layout()\n",
    "plt.show()\n"
   ]
  },
  {
   "cell_type": "code",
   "execution_count": null,
   "metadata": {},
   "outputs": [],
   "source": [
    "# clearly something is wrong \n",
    "# checking if csvs are any better\n",
    "\n"
   ]
  },
  {
   "cell_type": "code",
   "execution_count": null,
   "metadata": {},
   "outputs": [],
   "source": [
    "ra_data_csv = pd.read_csv('RA_merge_exercise.csv')\n",
    "industry_data_csv = pd.read_csv('ntmaj10_merge_exercise.csv')"
   ]
  },
  {
   "cell_type": "code",
   "execution_count": null,
   "metadata": {},
   "outputs": [],
   "source": [
    "# preforming the merge\n",
    "merged_csv = pd.merge(ra_data, industry_data, on='ein', how='left')"
   ]
  },
  {
   "cell_type": "code",
   "execution_count": null,
   "metadata": {},
   "outputs": [
    {
     "data": {
      "text/plain": [
       "<Figure size 720x432 with 0 Axes>"
      ]
     },
     "metadata": {},
     "output_type": "display_data"
    },
    {
     "data": {
      "image/png": "[encoded data removed]",
      "text/plain": [
       "<Figure size 432x288 with 1 Axes>"
      ]
     },
     "metadata": {
      "needs_background": "light"
     },
     "output_type": "display_data"
    }
   ],
   "source": [
    "# for now we will plot returns over time by industry \n",
    "# i will use a pivot function as I did in the project I did for econ 550\n",
    "\n",
    "grouped_data1 = merged_csv.groupby(['ntmaj10', 'year'])['irs990revenueamt'].sum().reset_index()\n",
    "\n",
    "# Pivot the data for plotting\n",
    "pivot_data1 = grouped_data1.pivot(index='year', columns='ntmaj10', values='irs990revenueamt')\n",
    "\n",
    "# Plot the data\n",
    "plt.figure(figsize=(10, 6))\n",
    "pivot_data.plot(kind='line')\n",
    "plt.title('IRS 990 Revenue Amount Over Time by NTMAJ10')\n",
    "plt.xlabel('Year')\n",
    "plt.ylabel('IRS 990 Revenue Amount')\n",
    "plt.legend(title='NTMAJ10', bbox_to_anchor=(1.05, 1), loc='upper left')\n",
    "plt.tight_layout()\n",
    "plt.show()\n"
   ]
  },
  {
   "cell_type": "code",
   "execution_count": null,
   "metadata": {},
   "outputs": [
    {
     "data": {
      "image/png": "[encoded data removed]",
      "text/plain": [
       "<Figure size 720x432 with 1 Axes>"
      ]
     },
     "metadata": {
      "needs_background": "light"
     },
     "output_type": "display_data"
    }
   ],
   "source": [
    "# taking a step back to see the behavior of merged data \n",
    "\n",
    "grouped_data = merged_data.groupby('year')['irs990revenueamt'].sum().reset_index()\n",
    "\n",
    "\n",
    "plt.figure(figsize=(10, 6))\n",
    "plt.plot(grouped_data['year'], grouped_data['irs990revenueamt'], marker='o', linestyle='-')\n",
    "plt.title('Total IRS 990 Revenue Amount Over Time')\n",
    "plt.xlabel('Year')\n",
    "plt.ylabel('Total IRS 990 Revenue Amount')\n",
    "plt.grid(True)\n",
    "plt.tight_layout()\n",
    "plt.show()\n",
    "\n"
   ]
  },
  {
   "cell_type": "code",
   "execution_count": null,
   "metadata": {},
   "outputs": [
    {
     "data": {
      "image/png": "[encoded data removed]",
      "text/plain": [
       "<Figure size 720x432 with 1 Axes>"
      ]
     },
     "metadata": {
      "needs_background": "light"
     },
     "output_type": "display_data"
    }
   ],
   "source": [
    "# taking a step back to see the behavior of merged data \n",
    "\n",
    "merged_data = merged_data.dropna(subset=['year'])\n",
    "\n",
    "# Group by 'year' and calculate the mean of 'irs990revenueamt', skipping NaN values\n",
    "grouped_data = merged_data.groupby('year')['irs990revenueamt'].mean().reset_index()\n",
    "\n",
    "plt.figure(figsize=(10, 6))\n",
    "plt.plot(grouped_data['year'], grouped_data['irs990revenueamt'], marker='o', linestyle='-')\n",
    "plt.title('Average IRS 990 Revenue Amount Over Time')\n",
    "plt.xlabel('Year')\n",
    "plt.ylabel('Average IRS 990 Revenue Amount')\n",
    "plt.grid(True)\n",
    "plt.tight_layout()\n",
    "plt.show()\n"
   ]
  },
  {
   "cell_type": "code",
   "execution_count": null,
   "metadata": {},
   "outputs": [],
   "source": []
  }
 ],
 "metadata": {
  "kernelspec": {
   "display_name": "base",
   "language": "python",
   "name": "python3"
  },
  "language_info": {
   "codemirror_mode": {
    "name": "ipython",
    "version": 3
   },
   "file_extension": ".py",
   "mimetype": "text/x-python",
   "name": "python",
   "nbconvert_exporter": "python",
   "pygments_lexer": "ipython3",
   "version": "3.9.12"
  }
 },
 "nbformat": 4,
 "nbformat_minor": 2
}
