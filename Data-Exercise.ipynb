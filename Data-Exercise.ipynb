{
 "cells": [
  {
   "cell_type": "code",
   "execution_count": 2,
   "metadata": {},
   "outputs": [],
   "source": [
    "# in order to inspect the time I started the project\\\n",
    "# you can inspect the commit history on github. \n",
    "# I also experiment with start and end times in the following lines"
   ]
  },
  {
   "cell_type": "code",
   "execution_count": 3,
   "metadata": {},
   "outputs": [
    {
     "name": "stderr",
     "output_type": "stream",
     "text": [
      "/opt/anaconda3/lib/python3.9/site-packages/scipy/__init__.py:146: UserWarning: A NumPy version >=1.16.5 and <1.23.0 is required for this version of SciPy (detected version 1.26.4\n",
      "  warnings.warn(f\"A NumPy version >={np_minversion} and <{np_maxversion}\"\n"
     ]
    }
   ],
   "source": [
    "# i will import the same libraries used for my 550 project \n",
    "# this is to save time for analysis. \n",
    "import pandas as pd\n",
    "import numpy as np\n",
    "import seaborn as sns\n",
    "import matplotlib.pyplot as plt\n",
    "import statsmodels.api as sm\n",
    "import statsmodels.formula.api as smf\n",
    "from statsmodels.stats.outliers_influence import variance_inflation_factor\n",
    "from statsmodels.tools.tools import add_constant\n",
    "import matplotlib.pyplot as plt\n",
    "import matplotlib.dates as mdates"
   ]
  },
  {
   "cell_type": "code",
   "execution_count": 9,
   "metadata": {},
   "outputs": [],
   "source": [
    "# adding the dta files to the prohect folder and importing \n",
    "ra_data = pd.read_stata('RA_merge_exercise.dta')\n",
    "industry_data = pd.read_stata('ntmaj10_merge_exercise.dta')"
   ]
  },
  {
   "cell_type": "code",
   "execution_count": 11,
   "metadata": {},
   "outputs": [
    {
     "data": {
      "text/html": [
       "<div>\n",
       "<style scoped>\n",
       "    .dataframe tbody tr th:only-of-type {\n",
       "        vertical-align: middle;\n",
       "    }\n",
       "\n",
       "    .dataframe tbody tr th {\n",
       "        vertical-align: top;\n",
       "    }\n",
       "\n",
       "    .dataframe thead th {\n",
       "        text-align: right;\n",
       "    }\n",
       "</style>\n",
       "<table border=\"1\" class=\"dataframe\">\n",
       "  <thead>\n",
       "    <tr style=\"text-align: right;\">\n",
       "      <th></th>\n",
       "      <th>returnts</th>\n",
       "      <th>zipcd</th>\n",
       "      <th>returntypecd</th>\n",
       "      <th>ein</th>\n",
       "      <th>irs990totalassetsboyamt</th>\n",
       "      <th>irs990revenueamt</th>\n",
       "      <th>year</th>\n",
       "    </tr>\n",
       "  </thead>\n",
       "  <tbody>\n",
       "    <tr>\n",
       "      <th>0</th>\n",
       "      <td>2017-11-27T12:07:15-06:00</td>\n",
       "      <td>19110</td>\n",
       "      <td>990EZ</td>\n",
       "      <td>112642391</td>\n",
       "      <td>NaN</td>\n",
       "      <td>NaN</td>\n",
       "      <td>2015.0</td>\n",
       "    </tr>\n",
       "    <tr>\n",
       "      <th>1</th>\n",
       "      <td>2018-01-17T07:35:17-08:00</td>\n",
       "      <td>19063</td>\n",
       "      <td>990EZ</td>\n",
       "      <td>112769918</td>\n",
       "      <td>NaN</td>\n",
       "      <td>NaN</td>\n",
       "      <td>2015.0</td>\n",
       "    </tr>\n",
       "    <tr>\n",
       "      <th>2</th>\n",
       "      <td>2018-05-08T09:57:45-05:00</td>\n",
       "      <td>19087</td>\n",
       "      <td>990PF</td>\n",
       "      <td>113202308</td>\n",
       "      <td>NaN</td>\n",
       "      <td>NaN</td>\n",
       "      <td>NaN</td>\n",
       "    </tr>\n",
       "    <tr>\n",
       "      <th>3</th>\n",
       "      <td>2018-11-15T10:19:57-05:00</td>\n",
       "      <td>19020</td>\n",
       "      <td>990EZ</td>\n",
       "      <td>113398321</td>\n",
       "      <td>NaN</td>\n",
       "      <td>NaN</td>\n",
       "      <td>2015.0</td>\n",
       "    </tr>\n",
       "    <tr>\n",
       "      <th>4</th>\n",
       "      <td>2018-02-26T10:01:32-06:00</td>\n",
       "      <td>19129</td>\n",
       "      <td>990EZ</td>\n",
       "      <td>113625329</td>\n",
       "      <td>NaN</td>\n",
       "      <td>NaN</td>\n",
       "      <td>2015.0</td>\n",
       "    </tr>\n",
       "  </tbody>\n",
       "</table>\n",
       "</div>"
      ],
      "text/plain": [
       "                    returnts  zipcd returntypecd        ein  \\\n",
       "0  2017-11-27T12:07:15-06:00  19110        990EZ  112642391   \n",
       "1  2018-01-17T07:35:17-08:00  19063        990EZ  112769918   \n",
       "2  2018-05-08T09:57:45-05:00  19087        990PF  113202308   \n",
       "3  2018-11-15T10:19:57-05:00  19020        990EZ  113398321   \n",
       "4  2018-02-26T10:01:32-06:00  19129        990EZ  113625329   \n",
       "\n",
       "   irs990totalassetsboyamt  irs990revenueamt    year  \n",
       "0                      NaN               NaN  2015.0  \n",
       "1                      NaN               NaN  2015.0  \n",
       "2                      NaN               NaN     NaN  \n",
       "3                      NaN               NaN  2015.0  \n",
       "4                      NaN               NaN  2015.0  "
      ]
     },
     "execution_count": 11,
     "metadata": {},
     "output_type": "execute_result"
    }
   ],
   "source": [
    "# inspecting missing values \n",
    "ra_data.head()"
   ]
  },
  {
   "cell_type": "code",
   "execution_count": 12,
   "metadata": {},
   "outputs": [
    {
     "data": {
      "text/html": [
       "<div>\n",
       "<style scoped>\n",
       "    .dataframe tbody tr th:only-of-type {\n",
       "        vertical-align: middle;\n",
       "    }\n",
       "\n",
       "    .dataframe tbody tr th {\n",
       "        vertical-align: top;\n",
       "    }\n",
       "\n",
       "    .dataframe thead th {\n",
       "        text-align: right;\n",
       "    }\n",
       "</style>\n",
       "<table border=\"1\" class=\"dataframe\">\n",
       "  <thead>\n",
       "    <tr style=\"text-align: right;\">\n",
       "      <th></th>\n",
       "      <th>ein</th>\n",
       "      <th>ntmaj10</th>\n",
       "    </tr>\n",
       "  </thead>\n",
       "  <tbody>\n",
       "    <tr>\n",
       "      <th>0</th>\n",
       "      <td>100007967</td>\n",
       "      <td>ED</td>\n",
       "    </tr>\n",
       "    <tr>\n",
       "      <th>1</th>\n",
       "      <td>100727381</td>\n",
       "      <td>HU</td>\n",
       "    </tr>\n",
       "    <tr>\n",
       "      <th>2</th>\n",
       "      <td>100817874</td>\n",
       "      <td>AR</td>\n",
       "    </tr>\n",
       "    <tr>\n",
       "      <th>3</th>\n",
       "      <td>100898048</td>\n",
       "      <td>HE</td>\n",
       "    </tr>\n",
       "    <tr>\n",
       "      <th>4</th>\n",
       "      <td>100914983</td>\n",
       "      <td>HE</td>\n",
       "    </tr>\n",
       "  </tbody>\n",
       "</table>\n",
       "</div>"
      ],
      "text/plain": [
       "         ein ntmaj10\n",
       "0  100007967      ED\n",
       "1  100727381      HU\n",
       "2  100817874      AR\n",
       "3  100898048      HE\n",
       "4  100914983      HE"
      ]
     },
     "execution_count": 12,
     "metadata": {},
     "output_type": "execute_result"
    }
   ],
   "source": [
    "industry_data.head()"
   ]
  },
  {
   "cell_type": "code",
   "execution_count": 13,
   "metadata": {},
   "outputs": [],
   "source": [
    "# converting to CSV files to inspect the data\n",
    "import pandas as pd\n",
    "\n",
    "# Load the datasets\n",
    "ra_data = pd.read_stata('RA_merge_exercise.dta')\n",
    "industry_data = pd.read_stata('ntmaj10_merge_exercise.dta')\n",
    "\n",
    "# Convert and save as CSV\n",
    "ra_data.to_csv('RA_merge_exercise.csv', index=False)\n",
    "industry_data.to_csv('ntmaj10_merge_exercise.csv', index=False)\n"
   ]
  },
  {
   "cell_type": "code",
   "execution_count": null,
   "metadata": {},
   "outputs": [],
   "source": [
    "# making a note that I briefly launched stata and used the browse function to\n",
    "# verify that the the csv data mapped to the .dta files"
   ]
  },
  {
   "cell_type": "markdown",
   "metadata": {},
   "source": []
  }
 ],
 "metadata": {
  "kernelspec": {
   "display_name": "base",
   "language": "python",
   "name": "python3"
  },
  "language_info": {
   "codemirror_mode": {
    "name": "ipython",
    "version": 3
   },
   "file_extension": ".py",
   "mimetype": "text/x-python",
   "name": "python",
   "nbconvert_exporter": "python",
   "pygments_lexer": "ipython3",
   "version": "3.9.12"
  }
 },
 "nbformat": 4,
 "nbformat_minor": 2
}
